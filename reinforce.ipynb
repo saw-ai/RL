{
 "cells": [
  {
   "cell_type": "code",
   "execution_count": 2,
   "metadata": {},
   "outputs": [],
   "source": [
    "import matplotlib.pyplot as plt\n",
    "%matplotlib inline\n",
    "import imageio\n",
    "from IPython.core.display import display, HTML\n",
    "from IPython.display import clear_output\n",
    "import matplotlib.image as mpimg\n",
    "import numpy as np"
   ]
  },
  {
   "cell_type": "code",
   "execution_count": 3,
   "metadata": {},
   "outputs": [
    {
     "data": {
      "text/plain": [
       "1000"
      ]
     },
     "execution_count": 3,
     "metadata": {},
     "output_type": "execute_result"
    }
   ],
   "source": [
    "initials = np.load('images/initials.npy')\n",
    "len(initials)"
   ]
  },
  {
   "cell_type": "markdown",
   "metadata": {},
   "source": [
    "Red - player \\\n",
    "Green - forest \\\n",
    "Blue - stones \n",
    "\n",
    "Moves: left, right, up, down"
   ]
  },
  {
   "cell_type": "code",
   "execution_count": 4,
   "metadata": {},
   "outputs": [
    {
     "data": {
      "image/png": "[encoded data removed]",
      "text/plain": [
       "<Figure size 432x288 with 1 Axes>"
      ]
     },
     "metadata": {
      "needs_background": "light"
     },
     "output_type": "display_data"
    }
   ],
   "source": [
    "initial = initials[456]\n",
    "plt.imshow(np.moveaxis(initial, (0, 1, 2), (2, 1, 0)) * 255);"
   ]
  },
  {
   "cell_type": "markdown",
   "metadata": {},
   "source": [
    "# Environment"
   ]
  },
  {
   "cell_type": "code",
   "execution_count": 8,
   "metadata": {},
   "outputs": [],
   "source": [
    "class Raic2020Python:\n",
    "    def __init__(self, state, centr=True, game_length=200):\n",
    "        self.initial_state = state.copy()\n",
    "        self.state = None\n",
    "        self.unit = None\n",
    "        #self.actions = [(-1, -1, -1), (0, -1, 0), (0, 1, 0), (0, 0, -1), (0, 0, 1), (1, -1, 0), (1, 1, 0), (1, 0, -1), (1, 0, 1)]\n",
    "        self.actions = [(0, -1, 0), (0, 1, 0), (0, 0, -1), (0, 0, 1)]\n",
    "        self.tick = None\n",
    "        self.done = None\n",
    "        self.game_length = game_length\n",
    "        self.centr = centr\n",
    "        \n",
    "    def reset(self):\n",
    "        self.state = self.initial_state.copy()\n",
    "        i = self.state[0].argmax()\n",
    "        self.unit = i // 32, i % 32\n",
    "        self.tick = 0\n",
    "        self.done = False\n",
    "        if self.centr:\n",
    "            return self.centralize(self.state)\n",
    "        else:\n",
    "            return self.centralize(self.state)\n",
    "    \n",
    "    def step(self, i):\n",
    "        kind, dx, dy = self.actions[i]\n",
    "        x, y = self.unit\n",
    "        reward = 0\n",
    "        if x + dx < 0 or x + dx >= 32 or y + dy < 0 or y + dy >= 32:\n",
    "            kind = -1\n",
    "            \n",
    "        if kind == 0 and self.state[:, x + dx, y + dy].max() == 0:\n",
    "            self.state[0, x + dx, y + dy] = 1\n",
    "            self.state[0, x, y] = 0\n",
    "            self.unit = x + dx, y + dy\n",
    "        elif kind == 0 and self.state[1, x + dx, y + dy] == 1:\n",
    "            self.state[1, x + dx, y + dy] = 0\n",
    "            reward = 1\n",
    "            \n",
    "        self.tick += 1\n",
    "        self.done = self.tick == self.game_length\n",
    "        if self.centr:\n",
    "            return self.centralize(self.state.copy()), reward, self.done, {}\n",
    "        else:\n",
    "            return self.state.copy(), reward, self.done, {}\n",
    "    \n",
    "    \n",
    "    def centralize(self, state):\n",
    "        mask = np.zeros((3, 32, 32), dtype=np.uint8)\n",
    "        mask[2, :, :] = 1\n",
    "        x, y = self.unit\n",
    "        dx = 15 - x\n",
    "        dy = 15 - y\n",
    "        mask[:, max(dx, 0):min(32+dx, 32), max(dy, 0):min(32+dy, 32)] = state[:, max(-dx, 0):min(32-dx, 32), max(-dy, 0):min(32-dy, 32)]\n",
    "\n",
    "        return mask"
   ]
  },
  {
   "cell_type": "markdown",
   "metadata": {},
   "source": [
    "# REINFORCE"
   ]
  },
  {
   "cell_type": "code",
   "execution_count": 6,
   "metadata": {},
   "outputs": [],
   "source": [
    "import torch\n",
    "import torch.nn as nn\n",
    "import torch.optim as optim"
   ]
  },
  {
   "cell_type": "code",
   "execution_count": 14,
   "metadata": {},
   "outputs": [],
   "source": [
    "def predict_probs(states):\n",
    "    \"\"\" \n",
    "    Predict action probabilities given states.\n",
    "    :param states: numpy array of shape [batch, state_shape]\n",
    "    :returns: numpy array of shape [batch, n_actions]\n",
    "    \"\"\"\n",
    "    # convert states, compute logits, use softmax to get probability\n",
    "    \n",
    "    with torch.no_grad():\n",
    "        output = model(torch.tensor(states).to(torch.float))\n",
    "    output = output.detach().numpy()\n",
    "    \n",
    "    return np.exp(output)"
   ]
  },
  {
   "cell_type": "code",
   "execution_count": 16,
   "metadata": {},
   "outputs": [],
   "source": [
    "#def image(state, axis=2):\n",
    "#    layer = state['map'][:32, :32, 0]\n",
    "#    return np.stack((layer == 3,layer == 8,(layer != 3)*(layer != 0)*(layer != 8)), axis=axis).astype(int)"
   ]
  },
  {
   "cell_type": "code",
   "execution_count": 17,
   "metadata": {},
   "outputs": [],
   "source": [
    "def generate_session(env, t_max=500, tempr=2):\n",
    "    \"\"\" \n",
    "    Play a full session with REINFORCE agent.\n",
    "    Returns sequences of states, actions, and rewards.\n",
    "    \"\"\"\n",
    "    # arrays to record session\n",
    "    states, actions, rewards = [], [], []\n",
    "    s = env.reset()\n",
    "\n",
    "    for t in range(t_max):\n",
    "        # action probabilities array aka pi(a|s)\n",
    "        action_probs = predict_probs(np.array([s]))[0]\n",
    "        action_probs_copy = action_probs.copy()\n",
    "        action_probs = action_probs ** tempr\n",
    "        action_probs = action_probs / sum(action_probs)\n",
    "        \n",
    "        # Sample action with given probabilities.\n",
    "        \n",
    "        a = np.random.choice(range(len(action_probs)), p=action_probs)\n",
    "        new_s, r, done, info = env.step(a)\n",
    "        \n",
    "        # record session history to train later\n",
    "        states.append(s)\n",
    "        actions.append(a)\n",
    "        rewards.append(r)\n",
    "\n",
    "        s = new_s\n",
    "        if done:\n",
    "            break\n",
    "\n",
    "    return states, actions, rewards"
   ]
  },
  {
   "cell_type": "code",
   "execution_count": 19,
   "metadata": {},
   "outputs": [],
   "source": [
    "def get_cumulative_rewards(rewards,  # rewards at each step\n",
    "                           gamma=0.99  # discount for reward\n",
    "                           ):\n",
    "    \"\"\"\n",
    "    Take a list of immediate rewards r(s,a) for the whole session \n",
    "    and compute cumulative returns (a.k.a. G(s,a) in Sutton '16).\n",
    "    \n",
    "    G_t = r_t + gamma*r_{t+1} + gamma^2*r_{t+2} + ...\n",
    "\n",
    "    A simple way to compute cumulative rewards is to iterate from the last\n",
    "    to the first timestep and compute G_t = r_t + gamma*G_{t+1} recurrently\n",
    "\n",
    "    You must return an array/list of cumulative rewards with as many elements as in the initial rewards.\n",
    "    \"\"\"\n",
    "    \n",
    "    G = []\n",
    "    for r in reversed(rewards):\n",
    "        if not G:\n",
    "            G.append(r)\n",
    "        else:\n",
    "            G.append(r + gamma * G[-1])\n",
    "    \n",
    "    return G[::-1]"
   ]
  },
  {
   "cell_type": "code",
   "execution_count": 20,
   "metadata": {},
   "outputs": [],
   "source": [
    "def to_one_hot(y_tensor, ndims):\n",
    "    \"\"\" helper: take an integer vector and convert it to 1-hot matrix. \"\"\"\n",
    "    y_tensor = y_tensor.type(torch.LongTensor).view(-1, 1)\n",
    "    y_one_hot = torch.zeros(\n",
    "        y_tensor.size()[0], ndims).scatter_(1, y_tensor, 1)\n",
    "    return y_one_hot"
   ]
  },
  {
   "cell_type": "code",
   "execution_count": 21,
   "metadata": {},
   "outputs": [],
   "source": [
    "def train_on_session(states, actions, rewards, gamma=0.99, entropy_coef=1e-1):\n",
    "    \"\"\"\n",
    "    Takes a sequence of states, actions and rewards produced by generate_session.\n",
    "    Updates agent's weights by following the policy gradient above.\n",
    "    Please use Adam optimizer with default parameters.\n",
    "    \"\"\"\n",
    "\n",
    "    # cast everything into torch tensors\n",
    "    states = torch.tensor(states, dtype=torch.float32)\n",
    "    actions = torch.tensor(actions, dtype=torch.int32)\n",
    "    cumulative_returns = np.array(get_cumulative_rewards(rewards, gamma))\n",
    "    cumulative_returns = torch.tensor(cumulative_returns, dtype=torch.float32)\n",
    "\n",
    "    # predict logits, probas and log-probas using an agent.\n",
    "    logits = model(states)\n",
    "    probs = nn.functional.softmax(logits, -1)\n",
    "    log_probs = nn.functional.log_softmax(logits, -1)\n",
    "\n",
    "    assert all(isinstance(v, torch.Tensor) for v in [logits, probs, log_probs]), \\\n",
    "        \"please use compute using torch tensors and don't use predict_probs function\"\n",
    "\n",
    "    # select log-probabilities for chosen actions, log pi(a_i|s_i)\n",
    "    log_probs_for_actions = torch.sum(\n",
    "        log_probs * to_one_hot(actions, len(env.actions)), dim=1)\n",
    "   \n",
    "    # Compute loss here. Don't forget entropy regularization with `entropy_coef` \n",
    "    entropy = -entropy_coef * (probs * log_probs).sum()\n",
    "    \n",
    "    \n",
    "    loss = torch.mean(log_probs_for_actions * cumulative_returns) + entropy\n",
    "    #loss = -entropy\n",
    "    \n",
    "    # Gradient descent step\n",
    "    optimizer.zero_grad()\n",
    "    (-loss).backward()\n",
    "    optimizer.step()\n",
    "\n",
    "    # technical: return session rewards to print them later\n",
    "    return np.sum(rewards)"
   ]
  },
  {
   "cell_type": "code",
   "execution_count": 22,
   "metadata": {},
   "outputs": [],
   "source": [
    "def create_gif(states):\n",
    "    images = []\n",
    "    for progress, state in enumerate(states):\n",
    "        im = state.transpose().astype(np.uint8) * 255\n",
    "        bar = np.zeros((1, 32, 3), dtype=np.uint8)\n",
    "        bar[:, :int((progress+1) / len(states) * 32), :] = 255\n",
    "        im = np.concatenate((im, bar), axis=0)\n",
    "        im = np.repeat(np.repeat(im, 10, axis=0), 10, axis=1)\n",
    "        #im = im[::-1, :, :]\n",
    "        #mask = (255 - im.max(axis=2))\n",
    "        #im = np.stack((mask, mask, mask), 2) + im\n",
    "        images.append(im)\n",
    "    imageio.mimsave('images/gif.gif', images, 'GIF', fps=30)   "
   ]
  },
  {
   "cell_type": "code",
   "execution_count": 7,
   "metadata": {},
   "outputs": [],
   "source": [
    "class Net(nn.Module):\n",
    "    def __init__(self):\n",
    "        super(Net, self).__init__()\n",
    "        self.conv1 = nn.Conv2d(3, 6, 3)\n",
    "        self.pool = nn.MaxPool2d(2, 2)\n",
    "        self.conv2 = nn.Conv2d(6, 16, 3)\n",
    "        self.fc1 = nn.Linear(16 * 6 * 6, 128)\n",
    "        self.fc2 = nn.Linear(128, 64)\n",
    "        self.fc3 = nn.Linear(64, 4)\n",
    "\n",
    "    def forward(self, x):\n",
    "        x = self.conv1(x)\n",
    "        x = torch.relu(x)\n",
    "        x = self.pool(x)\n",
    "        x = self.pool(torch.relu(self.conv2(x)))\n",
    "        x = x.view(-1, 16 * 6 * 6)\n",
    "        x = torch.relu(self.fc1(x))\n",
    "        x = torch.relu(self.fc2(x))\n",
    "        x = self.fc3(x)\n",
    "        x = torch.log_softmax(x, dim=1)\n",
    "        return x "
   ]
  },
  {
   "cell_type": "code",
   "execution_count": 24,
   "metadata": {},
   "outputs": [],
   "source": [
    "GAMMA = 0.95\n",
    "LEARNING_RATE = 1e-3\n",
    "ENTROPY_COEF = 1e-3\n",
    "TEMPERATURE = 1.3"
   ]
  },
  {
   "cell_type": "code",
   "execution_count": 25,
   "metadata": {},
   "outputs": [],
   "source": [
    "model = Net()\n",
    "optimizer = optim.Adam(model.parameters(), lr=LEARNING_RATE)"
   ]
  },
  {
   "cell_type": "code",
   "execution_count": null,
   "metadata": {},
   "outputs": [
    {
     "name": "stdout",
     "output_type": "stream",
     "text": [
      "session=8\n",
      "reward=0.39520958083832336\n"
     ]
    },
    {
     "data": {
      "text/html": [
       "<img src=\"images/gif.gif\" width=\"300\" align=\"center\">"
      ],
      "text/plain": [
       "<IPython.core.display.HTML object>"
      ]
     },
     "metadata": {},
     "output_type": "display_data"
    }
   ],
   "source": [
    "for i in range(1000):\n",
    "\n",
    "    rewards = []\n",
    "    for _ in range(20):\n",
    "        initial_picture = initials[np.random.randint(1000)]\n",
    "        env = Raic2020Python(initial_picture, centr=True, game_length=500)\n",
    "        states, actions, rewards = generate_session(env, t_max=500, tempr=TEMPERATURE)\n",
    "        reward = train_on_session(states, actions, rewards, gamma=GAMMA, entropy_coef=ENTROPY_COEF)\n",
    "        rewards.append(reward)\n",
    "\n",
    "    create_gif(states)\n",
    "    clear_output()\n",
    "    print (f'session={i}')\n",
    "    print (f'reward={np.mean(rewards)}')\n",
    "    display(HTML('<img src=\"images/gif.gif\" width=\"300\" align=\"center\">'))    "
   ]
  },
  {
   "cell_type": "code",
   "execution_count": null,
   "metadata": {},
   "outputs": [],
   "source": []
  }
 ],
 "metadata": {
  "kernelspec": {
   "display_name": "Python 3",
   "language": "python",
   "name": "python3"
  },
  "language_info": {
   "codemirror_mode": {
    "name": "ipython",
    "version": 3
   },
   "file_extension": ".py",
   "mimetype": "text/x-python",
   "name": "python",
   "nbconvert_exporter": "python",
   "pygments_lexer": "ipython3",
   "version": "3.8.3"
  }
 },
 "nbformat": 4,
 "nbformat_minor": 4
}
